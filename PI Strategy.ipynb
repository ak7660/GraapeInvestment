{
 "cells": [
  {
   "cell_type": "code",
   "execution_count": 1,
   "id": "c33c65ae-78ac-4c1e-a088-c0f37fce3fc1",
   "metadata": {},
   "outputs": [],
   "source": [
    "#libraries\n",
    "import pandas as pd\n",
    "import numpy as np\n",
    "import matplotlib.pyplot as plt\n",
    "import logging"
   ]
  },
  {
   "cell_type": "code",
   "execution_count": 2,
   "id": "bbc82129-e80e-473e-82e0-c402e8fd1094",
   "metadata": {},
   "outputs": [],
   "source": [
    "def adjust_hedge(long_return_total, short_return_average):\n",
    "    if long_return_total < short_return_average:\n",
    "        return 0.1 #tbc\n",
    "    else:\n",
    "        return 0.0\n",
    "\n",
    "\n",
    "def rebalancing(portfolio, target_allocation):\n",
    "    total_value = sum(portfolio.values())\n",
    "    for asset, allocation in target_allocation.items():\n",
    "        portfolio[asset] = total_value * allocation\n",
    "    logging.info(f\"Portfolio rebalanced: {portfolio}\")\n",
    "    return portfolio\n",
    "    \n",
    "#portfolio: a dictionary where key = asset class, value = value invested\n",
    "#target_allocation: a dictionary key = asset class, value = target allocation percentages\n",
    "\n",
    "\n",
    "def portfolio_insurance(portfolio, long_return_total, short_return_average):\n",
    "    hedge_ratio = adjust_hedge(long_return_total, short_return_average)\n",
    "    \n",
    "    if long_return_total < short_return_average:\n",
    "        hedge_value = sum(portfolio.values()) * hedge_ratio\n",
    "        portfolio['cash'] = portfolio.get('cash', 0) + hedge_value\n",
    "        logging.info(f\"Hedge applied: {hedge_value}. New portfolio value: {portfolio}\")\n",
    "        \n",
    "    return portfolio\n",
    "\n",
    "def monitor_performance(portfolio, previous_value):\n",
    "    current_value = sum(portfolio.values())\n",
    "    performance = (current_value - previous_value) / previous_value * 100\n",
    "    logging.info(f\"Current portfolio value: {current_value}. Performance: {performance:.2f}%\")\n",
    "    return current_value\n"
   ]
  },
  {
   "cell_type": "code",
   "execution_count": null,
   "id": "908917ed",
   "metadata": {},
   "outputs": [],
   "source": []
  }
 ],
 "metadata": {
  "kernelspec": {
   "display_name": "Python 3 (ipykernel)",
   "language": "python",
   "name": "python3"
  },
  "language_info": {
   "codemirror_mode": {
    "name": "ipython",
    "version": 3
   },
   "file_extension": ".py",
   "mimetype": "text/x-python",
   "name": "python",
   "nbconvert_exporter": "python",
   "pygments_lexer": "ipython3",
   "version": "3.10.7"
  }
 },
 "nbformat": 4,
 "nbformat_minor": 5
}
