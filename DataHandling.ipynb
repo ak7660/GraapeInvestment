{
 "cells": [
  {
   "cell_type": "code",
   "execution_count": 2,
   "metadata": {},
   "outputs": [
    {
     "name": "stdout",
     "output_type": "stream",
     "text": [
      "Error processing QQQ.xls: [Errno 2] No such file or directory: 'Data/ETFS/QQQ.xls'\n",
      "Error processing VGT.xls: [Errno 2] No such file or directory: 'Data/ETFS/VGT.xls'\n",
      "Error processing XLK.xls: [Errno 2] No such file or directory: 'Data/ETFS/XLK.xls'\n",
      "Error processing GLD.xls: [Errno 2] No such file or directory: 'Data/ETFS/GLD.xls'\n",
      "Error processing SUSA.xls: [Errno 2] No such file or directory: 'Data/ETFS/SUSA.xls'\n",
      "Error processing ESGU.xls: [Errno 2] No such file or directory: 'Data/ETFS/ESGU.xls'\n",
      "Error processing IYT.xls: [Errno 2] No such file or directory: 'Data/ETFS/IYT.xls'\n",
      "Error processing VHT.xls: [Errno 2] No such file or directory: 'Data/ETFS/VHT.xls'\n",
      "Error processing VPU.xls: [Errno 2] No such file or directory: 'Data/ETFS/VPU.xls'\n"
     ]
    }
   ],
   "source": [
    "# to change from xls to csv file\n",
    "import pandas as pd\n",
    "import os\n",
    "\n",
    "# List of stock tickers (file names without extensions)\n",
    "stock_tickers = ['QQQ', 'VGT', 'XLK', 'GLD', 'SUSA', 'ESGU', 'IYT', 'VHT', 'VPU']\n",
    "\n",
    "# Directory where your .xls files are stored\n",
    "input_directory = 'Data/ETFS'  # Change this to your actual directory\n",
    "output_directory = 'Data/ETFS'  # Output directory for .csv files\n",
    "\n",
    "# Ensure the output directory exists\n",
    "os.makedirs(output_directory, exist_ok=True)\n",
    "\n",
    "for ticker in stock_tickers:\n",
    "    # Construct input and output file paths\n",
    "    input_file = os.path.join(input_directory, f'{ticker}.xls')\n",
    "    output_file = os.path.join(output_directory, f'{ticker}.csv')\n",
    "    \n",
    "    try:\n",
    "        # Read the .xls file into a DataFrame\n",
    "        df = pd.read_excel(input_file)\n",
    "        \n",
    "        # Clean the data if necessary (e.g., remove 'mm' from volume)\n",
    "        if 'Volume' in df.columns:\n",
    "            df['Volume'] = df['Volume'].str.replace('mm', '').astype(float) * 1e6\n",
    "        \n",
    "        # Save DataFrame to a .csv file\n",
    "        df.to_csv(output_file, index=False)\n",
    "        print(f\"Successfully converted {ticker}.xls to {ticker}.csv\")\n",
    "    \n",
    "    except Exception as e:\n",
    "        print(f\"Error processing {ticker}.xls: {e}\")"
   ]
  },
  {
   "cell_type": "code",
   "execution_count": 3,
   "metadata": {},
   "outputs": [],
   "source": [
    "#deleting xls file\n",
    "import os\n",
    "import glob\n",
    "\n",
    "directory = 'Data/ETFS'\n",
    "\n",
    "xls_files = glob.glob(os.path.join(directory, '*.xls'))\n",
    "\n",
    "for file in xls_files:\n",
    "    try:\n",
    "        os.remove(file)\n",
    "        print(f\"Deleted: {file}\")\n",
    "    except Exception as e:\n",
    "        print(f\"Error deleting {file} : {e}\")"
   ]
  },
  {
   "cell_type": "code",
   "execution_count": 4,
   "metadata": {},
   "outputs": [],
   "source": [
    "import os\n",
    "\n",
    "def delete_first_36_lines(file_path):\n",
    "    with open(file_path, 'r') as file:\n",
    "        lines = file.readlines()\n",
    "    \n",
    "    # Skip the first 36 lines\n",
    "    lines = lines[36:]\n",
    "    \n",
    "    with open(file_path, 'w') as file:\n",
    "        file.writelines(lines)\n",
    "\n",
    "# Directory containing the CSV files\n",
    "directory = 'Data/ETFS'\n",
    "filenames = ['QQQ', 'VGT', 'XLK', 'GLD', 'SUSA', 'ESGU', 'IYT', 'VHT', 'VPU']\n",
    "\n",
    "# Iterate over all files in the directory\n",
    "for filename in os.listdir(directory):\n",
    "    if filename.endswith('.csv') and any(filename.startswith(filenamez) for filenamez in filenames):\n",
    "        file_path = os.path.join(directory, filename)\n",
    "        delete_first_36_lines(file_path)"
   ]
  },
  {
   "cell_type": "code",
   "execution_count": 5,
   "metadata": {},
   "outputs": [],
   "source": [
    "#Give the header date,volume,price\n",
    "import os\n",
    "\n",
    "def add_header_to_csv(file_path):\n",
    "    header = \"date,volume,price\\n\"\n",
    "    \n",
    "    with open(file_path, 'r') as file:\n",
    "        content = file.read()\n",
    "    \n",
    "    with open(file_path, 'w') as file:\n",
    "        file.write(header + content)\n",
    "\n",
    "# Directory containing the CSV files\n",
    "directory = 'Data/ETFS'\n",
    "filenames = ['QQQ', 'VGT', 'XLK', 'GLD', 'SUSA', 'ESGU', 'IYT', 'VHT', 'VPU']\n",
    "\n",
    "# Iterate over all files in the directory\n",
    "for filename in os.listdir(directory):\n",
    "    if filename.endswith('.csv') and any(filename.startswith(filenamez) for filenamez in filenames):\n",
    "        file_path = os.path.join(directory, filename)\n",
    "        add_header_to_csv(file_path)"
   ]
  },
  {
   "cell_type": "code",
   "execution_count": 6,
   "metadata": {},
   "outputs": [
    {
     "ename": "IndexError",
     "evalue": "list index out of range",
     "output_type": "error",
     "traceback": [
      "\u001b[0;31m---------------------------------------------------------------------------\u001b[0m",
      "\u001b[0;31mIndexError\u001b[0m                                Traceback (most recent call last)",
      "Cell \u001b[0;32mIn[6], line 28\u001b[0m\n\u001b[1;32m     26\u001b[0m \u001b[38;5;28;01mif\u001b[39;00m filename\u001b[38;5;241m.\u001b[39mendswith(\u001b[38;5;124m'\u001b[39m\u001b[38;5;124m.csv\u001b[39m\u001b[38;5;124m'\u001b[39m) \u001b[38;5;129;01mand\u001b[39;00m \u001b[38;5;28many\u001b[39m(filename\u001b[38;5;241m.\u001b[39mstartswith(filenamez) \u001b[38;5;28;01mfor\u001b[39;00m filenamez \u001b[38;5;129;01min\u001b[39;00m filenames):\n\u001b[1;32m     27\u001b[0m     file_path \u001b[38;5;241m=\u001b[39m os\u001b[38;5;241m.\u001b[39mpath\u001b[38;5;241m.\u001b[39mjoin(directory, filename)\n\u001b[0;32m---> 28\u001b[0m     \u001b[43mprocess_csv\u001b[49m\u001b[43m(\u001b[49m\u001b[43mfile_path\u001b[49m\u001b[43m)\u001b[49m\n",
      "Cell \u001b[0;32mIn[6], line 11\u001b[0m, in \u001b[0;36mprocess_csv\u001b[0;34m(file_path)\u001b[0m\n\u001b[1;32m      7\u001b[0m     rows \u001b[38;5;241m=\u001b[39m \u001b[38;5;28mlist\u001b[39m(reader)\n\u001b[1;32m     10\u001b[0m \u001b[38;5;66;03m# Extract only the first, third, and seventh columns\u001b[39;00m\n\u001b[0;32m---> 11\u001b[0m processed_rows \u001b[38;5;241m=\u001b[39m [[row[\u001b[38;5;241m0\u001b[39m], row[\u001b[38;5;241m2\u001b[39m], row[\u001b[38;5;241m6\u001b[39m]] \u001b[38;5;28;01mfor\u001b[39;00m row \u001b[38;5;129;01min\u001b[39;00m rows]\n\u001b[1;32m     13\u001b[0m \u001b[38;5;28;01mwith\u001b[39;00m \u001b[38;5;28mopen\u001b[39m(file_path, \u001b[38;5;124m'\u001b[39m\u001b[38;5;124mw\u001b[39m\u001b[38;5;124m'\u001b[39m, newline\u001b[38;5;241m=\u001b[39m\u001b[38;5;124m'\u001b[39m\u001b[38;5;124m'\u001b[39m) \u001b[38;5;28;01mas\u001b[39;00m outfile:\n\u001b[1;32m     14\u001b[0m     writer \u001b[38;5;241m=\u001b[39m csv\u001b[38;5;241m.\u001b[39mwriter(outfile)\n",
      "Cell \u001b[0;32mIn[6], line 11\u001b[0m, in \u001b[0;36m<listcomp>\u001b[0;34m(.0)\u001b[0m\n\u001b[1;32m      7\u001b[0m     rows \u001b[38;5;241m=\u001b[39m \u001b[38;5;28mlist\u001b[39m(reader)\n\u001b[1;32m     10\u001b[0m \u001b[38;5;66;03m# Extract only the first, third, and seventh columns\u001b[39;00m\n\u001b[0;32m---> 11\u001b[0m processed_rows \u001b[38;5;241m=\u001b[39m [[row[\u001b[38;5;241m0\u001b[39m], row[\u001b[38;5;241m2\u001b[39m], \u001b[43mrow\u001b[49m\u001b[43m[\u001b[49m\u001b[38;5;241;43m6\u001b[39;49m\u001b[43m]\u001b[49m] \u001b[38;5;28;01mfor\u001b[39;00m row \u001b[38;5;129;01min\u001b[39;00m rows]\n\u001b[1;32m     13\u001b[0m \u001b[38;5;28;01mwith\u001b[39;00m \u001b[38;5;28mopen\u001b[39m(file_path, \u001b[38;5;124m'\u001b[39m\u001b[38;5;124mw\u001b[39m\u001b[38;5;124m'\u001b[39m, newline\u001b[38;5;241m=\u001b[39m\u001b[38;5;124m'\u001b[39m\u001b[38;5;124m'\u001b[39m) \u001b[38;5;28;01mas\u001b[39;00m outfile:\n\u001b[1;32m     14\u001b[0m     writer \u001b[38;5;241m=\u001b[39m csv\u001b[38;5;241m.\u001b[39mwriter(outfile)\n",
      "\u001b[0;31mIndexError\u001b[0m: list index out of range"
     ]
    }
   ],
   "source": [
    "#For Crypto file LIBRO approach onlyneeds date, price, and volume column\n",
    "import csv\n",
    "\n",
    "def process_csv(file_path):\n",
    "    with open(file_path, 'r') as infile:\n",
    "        reader = csv.reader(infile)\n",
    "        rows = list(reader)\n",
    "    \n",
    "    \n",
    "    # Extract only the first, third, and seventh columns\n",
    "    processed_rows = [[row[0], row[2], row[6]] for row in rows]\n",
    "    \n",
    "    with open(file_path, 'w', newline='') as outfile:\n",
    "        writer = csv.writer(outfile)\n",
    "        # Write the new header\n",
    "        writer.writerow(['date', 'price', 'volume'])\n",
    "        # Write the processed rows\n",
    "        writer.writerows(processed_rows)\n",
    "\n",
    "# Path to the specific CSV file\n",
    "directory = 'Data/ETFS'\n",
    "filenames = ['QQQ', 'VGT', 'XLK', 'GLD', 'SUSA', 'ESGU', 'IYT', 'VHT', 'VPU']\n",
    "\n",
    "# Iterate over all files in the directory\n",
    "for filename in os.listdir(directory):\n",
    "    if filename.endswith('.csv') and any(filename.startswith(filenamez) for filenamez in filenames):\n",
    "        file_path = os.path.join(directory, filename)\n",
    "        process_csv(file_path)"
   ]
  },
  {
   "cell_type": "code",
   "execution_count": 1,
   "metadata": {},
   "outputs": [],
   "source": [
    "import json\n",
    "\n",
    "def extract_code_from_notebook(notebook_path, output_txt_path):\n",
    "    with open(notebook_path, 'r') as notebook_file:\n",
    "        notebook_content = json.load(notebook_file)\n",
    "    \n",
    "    code_cells = [cell for cell in notebook_content['cells'] if cell['cell_type'] == 'code']\n",
    "    \n",
    "    with open(output_txt_path, 'w') as output_file:\n",
    "        for cell in code_cells:\n",
    "            code = ''.join(cell['source'])\n",
    "            output_file.write(code + '\\n\\n')\n",
    "\n",
    "# Path to the Jupyter Notebook file\n",
    "notebook_path = 'LIBRO_strategy.ipynb'\n",
    "\n",
    "# Path to the output .txt file\n",
    "output_txt_path = 'output.txt'\n",
    "\n",
    "extract_code_from_notebook(notebook_path, output_txt_path)"
   ]
  },
  {
   "cell_type": "code",
   "execution_count": null,
   "metadata": {},
   "outputs": [],
   "source": []
  }
 ],
 "metadata": {
  "kernelspec": {
   "display_name": "GIG",
   "language": "python",
   "name": "python3"
  },
  "language_info": {
   "codemirror_mode": {
    "name": "ipython",
    "version": 3
   },
   "file_extension": ".py",
   "mimetype": "text/x-python",
   "name": "python",
   "nbconvert_exporter": "python",
   "pygments_lexer": "ipython3",
   "version": "3.10.7"
  }
 },
 "nbformat": 4,
 "nbformat_minor": 2
}
