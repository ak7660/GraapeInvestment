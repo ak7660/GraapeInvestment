{
 "cells": [
  {
   "cell_type": "code",
   "execution_count": 4,
   "metadata": {},
   "outputs": [
    {
     "name": "stderr",
     "output_type": "stream",
     "text": [
      "[*********************100%***********************]  1 of 1 completed\n"
     ]
    },
    {
     "data": {
      "text/html": [
       "<div>\n",
       "<style scoped>\n",
       "    .dataframe tbody tr th:only-of-type {\n",
       "        vertical-align: middle;\n",
       "    }\n",
       "\n",
       "    .dataframe tbody tr th {\n",
       "        vertical-align: top;\n",
       "    }\n",
       "\n",
       "    .dataframe thead th {\n",
       "        text-align: right;\n",
       "    }\n",
       "</style>\n",
       "<table border=\"1\" class=\"dataframe\">\n",
       "  <thead>\n",
       "    <tr style=\"text-align: right;\">\n",
       "      <th></th>\n",
       "      <th>Open</th>\n",
       "      <th>High</th>\n",
       "      <th>Low</th>\n",
       "      <th>Close</th>\n",
       "      <th>Adj Close</th>\n",
       "      <th>Volume</th>\n",
       "    </tr>\n",
       "    <tr>\n",
       "      <th>Date</th>\n",
       "      <th></th>\n",
       "      <th></th>\n",
       "      <th></th>\n",
       "      <th></th>\n",
       "      <th></th>\n",
       "      <th></th>\n",
       "    </tr>\n",
       "  </thead>\n",
       "  <tbody>\n",
       "    <tr>\n",
       "      <th>2024-09-25</th>\n",
       "      <td>64302.589844</td>\n",
       "      <td>64804.503906</td>\n",
       "      <td>62945.375000</td>\n",
       "      <td>63143.144531</td>\n",
       "      <td>63143.144531</td>\n",
       "      <td>25078377700</td>\n",
       "    </tr>\n",
       "    <tr>\n",
       "      <th>2024-09-26</th>\n",
       "      <td>63138.546875</td>\n",
       "      <td>65790.796875</td>\n",
       "      <td>62669.269531</td>\n",
       "      <td>65181.019531</td>\n",
       "      <td>65181.019531</td>\n",
       "      <td>36873129847</td>\n",
       "    </tr>\n",
       "    <tr>\n",
       "      <th>2024-09-27</th>\n",
       "      <td>65180.664062</td>\n",
       "      <td>66480.695312</td>\n",
       "      <td>64852.992188</td>\n",
       "      <td>65790.664062</td>\n",
       "      <td>65790.664062</td>\n",
       "      <td>32058813449</td>\n",
       "    </tr>\n",
       "    <tr>\n",
       "      <th>2024-09-28</th>\n",
       "      <td>65792.179688</td>\n",
       "      <td>66255.531250</td>\n",
       "      <td>65458.035156</td>\n",
       "      <td>65887.648438</td>\n",
       "      <td>65887.648438</td>\n",
       "      <td>15243637984</td>\n",
       "    </tr>\n",
       "    <tr>\n",
       "      <th>2024-09-29</th>\n",
       "      <td>65888.781250</td>\n",
       "      <td>65956.164062</td>\n",
       "      <td>65454.417969</td>\n",
       "      <td>65895.796875</td>\n",
       "      <td>65895.796875</td>\n",
       "      <td>14265182208</td>\n",
       "    </tr>\n",
       "  </tbody>\n",
       "</table>\n",
       "</div>"
      ],
      "text/plain": [
       "                    Open          High           Low         Close  \\\n",
       "Date                                                                 \n",
       "2024-09-25  64302.589844  64804.503906  62945.375000  63143.144531   \n",
       "2024-09-26  63138.546875  65790.796875  62669.269531  65181.019531   \n",
       "2024-09-27  65180.664062  66480.695312  64852.992188  65790.664062   \n",
       "2024-09-28  65792.179688  66255.531250  65458.035156  65887.648438   \n",
       "2024-09-29  65888.781250  65956.164062  65454.417969  65895.796875   \n",
       "\n",
       "               Adj Close       Volume  \n",
       "Date                                   \n",
       "2024-09-25  63143.144531  25078377700  \n",
       "2024-09-26  65181.019531  36873129847  \n",
       "2024-09-27  65790.664062  32058813449  \n",
       "2024-09-28  65887.648438  15243637984  \n",
       "2024-09-29  65895.796875  14265182208  "
      ]
     },
     "execution_count": 4,
     "metadata": {},
     "output_type": "execute_result"
    }
   ],
   "source": [
    "import yfinance as yf\n",
    "\n",
    "# Download BTC-USD data\n",
    "btc_data = yf.download('BTC-USD')\n",
    "\n",
    "# Display the first few rows of the data\n",
    "btc_data.head()\n",
    "# Display the most recent data\n",
    "btc_data.tail()\n"
   ]
  },
  {
   "cell_type": "code",
   "execution_count": null,
   "metadata": {},
   "outputs": [],
   "source": []
  }
 ],
 "metadata": {
  "kernelspec": {
   "display_name": "Python 3",
   "language": "python",
   "name": "python3"
  },
  "language_info": {
   "codemirror_mode": {
    "name": "ipython",
    "version": 3
   },
   "file_extension": ".py",
   "mimetype": "text/x-python",
   "name": "python",
   "nbconvert_exporter": "python",
   "pygments_lexer": "ipython3",
   "version": "3.10.7"
  }
 },
 "nbformat": 4,
 "nbformat_minor": 2
}
